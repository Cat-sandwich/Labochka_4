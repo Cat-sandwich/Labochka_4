{
 "cells": [
  {
   "cell_type": "code",
   "execution_count": 1,
   "metadata": {},
   "outputs": [],
   "source": [
    "\n",
    "import pandas as pd\n",
    "import csv\n",
    "import os\n",
    "import os.path\n",
    "import pymorphy2\n",
    "import regex as re\n",
    "import main\n",
    "from collections import Counter"
   ]
  },
  {
   "attachments": {},
   "cell_type": "markdown",
   "metadata": {},
   "source": [
    "# Пункт 1"
   ]
  },
  {
   "attachments": {},
   "cell_type": "markdown",
   "metadata": {},
   "source": [
    "С использованием средств библиотеки Pandas прочитать все данные (в DataFrame будет несколько столбцов, в зависимости от варианта, например, у варианта 10 - Количество звезд, Текст рецензии)."
   ]
  },
  {
   "cell_type": "code",
   "execution_count": 13,
   "metadata": {},
   "outputs": [
    {
     "name": "stdout",
     "output_type": "stream",
     "text": [
      "     class_mark                                        text_review\n",
      "0          good  Зеленая миля\\n'Они помогли ему убить себя и та...\n",
      "1          good  Зеленая миля\\n'Боже, иногда Зеленая миля так д...\n",
      "2          good  Зеленая миля\\nОни помогли ему убить себя\\n\\n«О...\n",
      "3          good  Зеленая миля\\n«Когда призовет Господь на свой ...\n",
      "4          good  Зеленая миля\\nОбвиненный в страшном преступлен...\n",
      "...         ...                                                ...\n",
      "1995        bad  Сумерки\\nФильм «ни о чем»! Не понимаю, что мно...\n",
      "1996        bad  Сумерки\\nСначала был Макс Шрек.\\n\\n\\nПотом Бел...\n",
      "1997        bad  Сумерки\\nНа экраны вышла первая часть вампирск...\n",
      "1998        bad  Сумерки\\nСемнадцатилетняя Белла Свон переезжае...\n",
      "1999        bad  Сумерки\\nМоё отношение к данному фильму весьма...\n",
      "\n",
      "[2000 rows x 2 columns]\n"
     ]
    }
   ],
   "source": [
    "column_name = ['class_mark', 'text_review', 'count_words']\n",
    "reviews_df = main.add_to_dataframe()\n",
    "print(reviews_df)"
   ]
  },
  {
   "attachments": {},
   "cell_type": "markdown",
   "metadata": {},
   "source": [
    "# Пункт 2 "
   ]
  },
  {
   "attachments": {},
   "cell_type": "markdown",
   "metadata": {},
   "source": [
    "# сделан сразу в пункте 1\n",
    "Произвести именование колонок сформированного DataFrame в соответствии с рекомендациями, полученными на соответствующей лекции."
   ]
  },
  {
   "attachments": {},
   "cell_type": "markdown",
   "metadata": {},
   "source": [
    "# Пункт 3"
   ]
  },
  {
   "attachments": {},
   "cell_type": "markdown",
   "metadata": {},
   "source": [
    "Произвести проверку на наличие невалидных значений в колонках (NaN, None и т.п.). В случае нахождения выполнить обработку таких значений."
   ]
  },
  {
   "cell_type": "code",
   "execution_count": 3,
   "metadata": {},
   "outputs": [
    {
     "name": "stdout",
     "output_type": "stream",
     "text": [
      "Столбец: < class_mark > пустой? - False\n",
      "Столбец: < text_review > пустой? - False\n"
     ]
    }
   ],
   "source": [
    "print('Столбец: <', column_name[0], '> пустой? -',\n",
    "          main.check_nan(reviews_df, column_name[0]))\n",
    "print('Столбец: <', column_name[1], '> пустой? -',\n",
    "        main.check_nan(reviews_df, column_name[1]))\n"
   ]
  },
  {
   "attachments": {},
   "cell_type": "markdown",
   "metadata": {},
   "source": [
    "# Пункт 4"
   ]
  },
  {
   "attachments": {},
   "cell_type": "markdown",
   "metadata": {},
   "source": [
    "Добавить в DataFrame столбец, который будет содержать информацию о кол-ве слов в ячейке, содержащей текстовую информацию."
   ]
  },
  {
   "cell_type": "code",
   "execution_count": 14,
   "metadata": {},
   "outputs": [
    {
     "name": "stdout",
     "output_type": "stream",
     "text": [
      "     class_mark                                        text_review  \\\n",
      "0          good  Зеленая миля\\n'Они помогли ему убить себя и та...   \n",
      "1          good  Зеленая миля\\n'Боже, иногда Зеленая миля так д...   \n",
      "2          good  Зеленая миля\\nОни помогли ему убить себя\\n\\n«О...   \n",
      "3          good  Зеленая миля\\n«Когда призовет Господь на свой ...   \n",
      "4          good  Зеленая миля\\nОбвиненный в страшном преступлен...   \n",
      "...         ...                                                ...   \n",
      "1995        bad  Сумерки\\nФильм «ни о чем»! Не понимаю, что мно...   \n",
      "1996        bad  Сумерки\\nСначала был Макс Шрек.\\n\\n\\nПотом Бел...   \n",
      "1997        bad  Сумерки\\nНа экраны вышла первая часть вампирск...   \n",
      "1998        bad  Сумерки\\nСемнадцатилетняя Белла Свон переезжае...   \n",
      "1999        bad  Сумерки\\nМоё отношение к данному фильму весьма...   \n",
      "\n",
      "      count_words  \n",
      "0             117  \n",
      "1            1448  \n",
      "2             639  \n",
      "3             751  \n",
      "4             361  \n",
      "...           ...  \n",
      "1995          176  \n",
      "1996          609  \n",
      "1997          346  \n",
      "1998          195  \n",
      "1999          327  \n",
      "\n",
      "[2000 rows x 3 columns]\n"
     ]
    }
   ],
   "source": [
    "count_word = main.count_words_in_text(reviews_df, column_name[1])\n",
    "reviews_df[column_name[2]] = pd.Series(count_word)\n",
    "print(reviews_df)"
   ]
  },
  {
   "attachments": {},
   "cell_type": "markdown",
   "metadata": {},
   "source": [
    "# Пункт 5"
   ]
  },
  {
   "attachments": {},
   "cell_type": "markdown",
   "metadata": {},
   "source": [
    "С использованием Pandas вычислить статистическую информацию для столбцов, содержащих числовую информацию."
   ]
  },
  {
   "cell_type": "code",
   "execution_count": 5,
   "metadata": {},
   "outputs": [
    {
     "name": "stdout",
     "output_type": "stream",
     "text": [
      "count    2000.000000\n",
      "mean      378.286500\n",
      "std       221.887488\n",
      "min        13.000000\n",
      "25%       215.000000\n",
      "50%       324.000000\n",
      "75%       486.500000\n",
      "max      2427.000000\n",
      "Name: count_words, dtype: float64\n"
     ]
    }
   ],
   "source": [
    "stat = main.statistical_information(reviews_df, column_name[2])\n",
    "print(stat)"
   ]
  },
  {
   "attachments": {},
   "cell_type": "markdown",
   "metadata": {},
   "source": [
    "# Пункт 6"
   ]
  },
  {
   "attachments": {},
   "cell_type": "markdown",
   "metadata": {},
   "source": [
    "Написать функцию, которая на вход принимает DataFrame и количество слов, а возвращает отфильтрованный по количеству слов DataFrame. Условие фильтрации - в новый DataFrame включаются те строки, для которых значение в столбце с количеством слов  ≤  заданного значения."
   ]
  },
  {
   "cell_type": "code",
   "execution_count": 15,
   "metadata": {},
   "outputs": [
    {
     "name": "stdout",
     "output_type": "stream",
     "text": [
      "    class_mark                                        text_review  count_words\n",
      "1         good  Зеленая миля\\n'Боже, иногда Зеленая миля так д...         1448\n",
      "400       good  Матрица\\nИщите в фильме смысл. Вы его увидите....         2427\n",
      "674       good  Побег из Шоушенка\\n«Побег из Шоушенка» - экран...         1317\n",
      "676       good  Побег из Шоушенка\\nЭто случилось в Америке поч...         1469\n"
     ]
    }
   ],
   "source": [
    "filtered_reviews_df = main.filtered_dataframe_word(\n",
    "        reviews_df, column_name[2], 1200)\n",
    "print(filtered_reviews_df)"
   ]
  },
  {
   "attachments": {},
   "cell_type": "markdown",
   "metadata": {},
   "source": [
    "# Пункт 7"
   ]
  },
  {
   "attachments": {},
   "cell_type": "markdown",
   "metadata": {},
   "source": [
    "Написать функцию, которая на вход принимает DataFrame и метку класса (например, Количество звезд), а возвращает отфильтрованный по заданной метке DataFrame."
   ]
  },
  {
   "cell_type": "code",
   "execution_count": 7,
   "metadata": {},
   "outputs": [
    {
     "name": "stdout",
     "output_type": "stream",
     "text": [
      "    class_mark                                        text_review  count_words\n",
      "0         good  Зеленая миля\\n'Они помогли ему убить себя и та...          117\n",
      "1         good  Зеленая миля\\n'Боже, иногда Зеленая миля так д...         1448\n",
      "2         good  Зеленая миля\\nОни помогли ему убить себя\\n\\n«О...          639\n",
      "3         good  Зеленая миля\\n«Когда призовет Господь на свой ...          751\n",
      "4         good  Зеленая миля\\nОбвиненный в страшном преступлен...          361\n",
      "..         ...                                                ...          ...\n",
      "995       good  1+1\\nЯ, честно, до появления этого фильма в то...          331\n",
      "996       good  1+1\\nДрузья давно советовали мне посмотреть эт...          448\n",
      "997       good  1+1\\nВсегда, когда смотришь хороший европейски...          198\n",
      "998       good  1+1\\nПосмотрел этот фильм сравнительно недавно...          278\n",
      "999       good  Тайна Коко\\nЭто надо видеть!!!Наверное, это бу...          394\n",
      "\n",
      "[1000 rows x 3 columns]\n"
     ]
    }
   ],
   "source": [
    "reviews_good_df = main.filtered_dataframe_class(\n",
    "        reviews_df, column_name[0], 'good')\n",
    "\n",
    "    \n",
    "print(reviews_good_df)"
   ]
  },
  {
   "attachments": {},
   "cell_type": "markdown",
   "metadata": {},
   "source": [
    "# Пункт 8"
   ]
  },
  {
   "attachments": {},
   "cell_type": "markdown",
   "metadata": {},
   "source": [
    "Выполнить группировку DataFrame по метке класса с вычислением максимального, минимального и среднего значения по количеству слов."
   ]
  },
  {
   "cell_type": "code",
   "execution_count": 8,
   "metadata": {},
   "outputs": [
    {
     "name": "stdout",
     "output_type": "stream",
     "text": [
      "\n",
      "Для положительных отзывов:\n",
      "\n",
      "Минимальное кол-во слов: 13.0\n",
      "Максимальное кол-во слов: 2427.0\n",
      "Среднее кол-во слов: 370.85\n",
      "\n",
      "Для отрицательных отзывов:\n",
      "\n",
      "Минимальное кол-во слов: 49.0\n",
      "Максимальное кол-во слов: 1015.0\n",
      "Среднее кол-во слов: 385.723\n"
     ]
    }
   ],
   "source": [
    "stat_good = main.statistical_information(reviews_good_df, column_name[2])\n",
    "print('\\nДля положительных отзывов:\\n')\n",
    "print('Минимальное кол-во слов:', stat_good['min'])\n",
    "print('Максимальное кол-во слов:', stat_good['max'])\n",
    "print('Среднее кол-во слов:', stat_good['mean'])\n",
    "\n",
    "reviews_bad_df = main.filtered_dataframe_class(reviews_df, column_name[0], 'bad')\n",
    "\n",
    "stat_bad = main.statistical_information(reviews_bad_df, column_name[2])\n",
    "print('\\nДля отрицательных отзывов:\\n')\n",
    "print('Минимальное кол-во слов:', stat_bad['min'])\n",
    "print('Максимальное кол-во слов:', stat_bad['max'])\n",
    "print('Среднее кол-во слов:', stat_bad['mean'])"
   ]
  },
  {
   "attachments": {},
   "cell_type": "markdown",
   "metadata": {},
   "source": [
    "# Пункт 9 "
   ]
  },
  {
   "attachments": {},
   "cell_type": "markdown",
   "metadata": {},
   "source": [
    "Написать функцию, которая на вход принимает DataFrame и метку класса, а возвращает гистограмму для слов. Для расчета гистограммы необходимо будет разбить блоки текста на слова и выполнить процедуру лемматизации для каждого слова (используя библиотеку nltk). \n",
    "\n",
    "Была использована другая библиотека - pymystem3."
   ]
  },
  {
   "attachments": {},
   "cell_type": "markdown",
   "metadata": {},
   "source": [
    "В данном блоке кода выполняется лемматизация слов (приведение слов к начальной форме)"
   ]
  },
  {
   "cell_type": "code",
   "execution_count": null,
   "metadata": {},
   "outputs": [],
   "source": [
    "output_lemma = list\n",
    "output_lemma = main.lemmatize_for_class_mark(reviews_df, 'good')\n",
    "output_lemma.sort()"
   ]
  },
  {
   "attachments": {},
   "cell_type": "markdown",
   "metadata": {},
   "source": [
    "Ниже происходит подсчет количества уникальных слов (с помощью словаря), далее идет выборка по части речи и кол-ву повторений слова."
   ]
  },
  {
   "cell_type": "code",
   "execution_count": 19,
   "metadata": {},
   "outputs": [
    {
     "name": "stdout",
     "output_type": "stream",
     "text": [
      "{'говорить': 606, 'понимать': 687, 'посмотреть': 518, 'сказать': 761, 'смотреть': 732, 'снимать': 525, 'становиться': 642}\n"
     ]
    }
   ],
   "source": [
    "word_dict = Counter(output_lemma)\n",
    "word_dict = dict(word_dict)\n",
    "word_dict_upd = {}\n",
    "#print(word_dict_upd)\n",
    "bad_functors_pos = {'INTJ', 'PRCL', 'CONJ', 'PREP', 'NPRO'}\n",
    "bad_words = {'этот', 'мой', 'наш', 'один', 'который', 'весь', 'быть'}\n",
    "verb_functors_pos = {'VERB', 'INFN'}\n",
    "good_functors_pos = {'ADJS', 'ADJF'}\n",
    "for key, value in word_dict.items(): \n",
    "    main.pos(key)   \n",
    "    if value > 500 and  main.pos(key) in verb_functors_pos and key != ' ' and key not in bad_words:\n",
    "        word_dict_upd[key] = value\n",
    "\n",
    "print(word_dict_upd)\n",
    "\n"
   ]
  },
  {
   "attachments": {},
   "cell_type": "markdown",
   "metadata": {},
   "source": [
    "# Пункт 10"
   ]
  },
  {
   "attachments": {},
   "cell_type": "markdown",
   "metadata": {},
   "source": [
    "Выполнить визуализацию гистограммы, полученной из пункта 9, с помощью средств библиотеки matplotlib. Соответствующие оси, графики и значения необходимо подписать."
   ]
  },
  {
   "cell_type": "code",
   "execution_count": 21,
   "metadata": {},
   "outputs": [
    {
     "data": {
      "image/png": "[encoded data removed]",
      "text/plain": [
       "<Figure size 2000x1000 with 1 Axes>"
      ]
     },
     "metadata": {},
     "output_type": "display_data"
    }
   ],
   "source": [
    "from matplotlib import pyplot as plt\n",
    "import numpy as np\n",
    "\n",
    "fig = plt.figure(figsize=(20,10))\n",
    "ax = fig.add_subplot()\n",
    "\n",
    "ax.bar(list(word_dict_upd.keys()), word_dict_upd.values(), color='r')\n",
    "\n",
    "plt.show()"
   ]
  },
  {
   "attachments": {},
   "cell_type": "markdown",
   "metadata": {},
   "source": [
    "# Для плохих отзывов"
   ]
  },
  {
   "attachments": {},
   "cell_type": "markdown",
   "metadata": {},
   "source": [
    "В данном блоке кода выполняется лемматизация слов (приведение слов к начальной форме)"
   ]
  },
  {
   "cell_type": "code",
   "execution_count": 22,
   "metadata": {},
   "outputs": [],
   "source": [
    "from matplotlib import pyplot as plt\n",
    "import numpy as np\n",
    "\n",
    "output_lemma = list\n",
    "output_lemma = main.lemmatize_for_class_mark(reviews_df, 'bad')\n"
   ]
  },
  {
   "attachments": {},
   "cell_type": "markdown",
   "metadata": {},
   "source": [
    "Ниже происходит подсчет количества уникальных слов (с помощью словаря), далее идет выборка по части речи и кол-ву повторений слова."
   ]
  },
  {
   "cell_type": "code",
   "execution_count": 24,
   "metadata": {},
   "outputs": [
    {
     "data": {
      "image/png": "[encoded data removed]",
      "text/plain": [
       "<Figure size 3000x1000 with 1 Axes>"
      ]
     },
     "metadata": {},
     "output_type": "display_data"
    }
   ],
   "source": [
    "word_dict = Counter(output_lemma)\n",
    "word_dict = dict(word_dict)\n",
    "word_dict_upd = {}\n",
    "\n",
    "bad_functors_pos = {'INTJ', 'PRCL', 'CONJ', 'PREP', 'NPRO'}\n",
    "bad_words = {'этот', 'мой', 'наш', 'один', 'который', 'весь','быть', 'сей', 'свой', 'такой', 'тот', 'первый', 'сам', 'самый'}\n",
    "good_functors_pos = {'ADJS', 'ADJF'}\n",
    "verb_functors_pos = {'VERB', 'INFN'}\n",
    "\n",
    "for key, value in word_dict.items(): \n",
    "    main.pos(key)   \n",
    "    if value > 300 and  main.pos(key) in verb_functors_pos and key != ' ' and key not in bad_words:\n",
    "        word_dict_upd[key] = value\n",
    "\n",
    "\n",
    "fig = plt.figure(figsize=(30,10))\n",
    "ax = fig.add_subplot()\n",
    "\n",
    "ax.bar(list(word_dict_upd.keys()), word_dict_upd.values(), color='r')\n",
    "\n",
    "plt.show()"
   ]
  }
 ],
 "metadata": {
  "kernelspec": {
   "display_name": "Python 3.10.7 64-bit",
   "language": "python",
   "name": "python3"
  },
  "language_info": {
   "codemirror_mode": {
    "name": "ipython",
    "version": 3
   },
   "file_extension": ".py",
   "mimetype": "text/x-python",
   "name": "python",
   "nbconvert_exporter": "python",
   "pygments_lexer": "ipython3",
   "version": "3.10.7"
  },
  "orig_nbformat": 4,
  "vscode": {
   "interpreter": {
    "hash": "1af5a1ec5683947446bd5f176e49a8bdacde1661c6109a52b4e2c5a12da96685"
   }
  }
 },
 "nbformat": 4,
 "nbformat_minor": 2
}
