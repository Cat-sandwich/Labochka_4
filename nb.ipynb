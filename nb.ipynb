{
 "cells": [
  {
   "cell_type": "code",
   "execution_count": 36,
   "metadata": {},
   "outputs": [],
   "source": [
    "\n",
    "import pandas as pd\n",
    "import csv\n",
    "import os\n",
    "import os.path\n",
    "import numpy as np\n",
    "import main"
   ]
  },
  {
   "cell_type": "markdown",
   "metadata": {},
   "source": [
    "Пункт 1"
   ]
  },
  {
   "cell_type": "code",
   "execution_count": 35,
   "metadata": {},
   "outputs": [
    {
     "name": "stdout",
     "output_type": "stream",
     "text": [
      "Столбец: < Метка класса > пустой? - False\n",
      "Столбец: < Текст отзыва > пустой? - False\n",
      "     Метка класса                                       Текст отзыва\n",
      "0            good  Зеленая миля\\n'Они помогли ему убить себя и та...\n",
      "1            good  Зеленая миля\\n'Боже, иногда Зеленая миля так д...\n",
      "2            good  Зеленая миля\\nОни помогли ему убить себя\\n\\n«О...\n",
      "3            good  Зеленая миля\\n«Когда призовет Господь на свой ...\n",
      "4            good  Зеленая миля\\nОбвиненный в страшном преступлен...\n",
      "...           ...                                                ...\n",
      "1995          bad  Сумерки\\nФильм «ни о чем»! Не понимаю, что мно...\n",
      "1996          bad  Сумерки\\nСначала был Макс Шрек.\\n\\n\\nПотом Бел...\n",
      "1997          bad  Сумерки\\nНа экраны вышла первая часть вампирск...\n",
      "1998          bad  Сумерки\\nСемнадцатилетняя Белла Свон переезжае...\n",
      "1999          bad  Сумерки\\nМоё отношение к данному фильму весьма...\n",
      "\n",
      "[2000 rows x 2 columns]\n"
     ]
    }
   ],
   "source": [
    "column_name = ['Метка класса', 'Текст отзыва', 'Количество слов']\n",
    "reviews_df = main.add_to_dataframe()\n",
    "print(reviews_df)"
   ]
  },
  {
   "cell_type": "markdown",
   "metadata": {},
   "source": [
    "Пункт 2 сделан сразу в пункте 1"
   ]
  },
  {
   "cell_type": "markdown",
   "metadata": {},
   "source": [
    "Пункт 3"
   ]
  },
  {
   "cell_type": "code",
   "execution_count": 5,
   "metadata": {},
   "outputs": [
    {
     "name": "stdout",
     "output_type": "stream",
     "text": [
      "Столбец: < Метка класса > пустой? - False\n",
      "Столбец: < Текст отзыва > пустой? - False\n"
     ]
    }
   ],
   "source": [
    "print('Столбец: <', column_name[0], '> пустой? -',\n",
    "          main.check_nan(reviews_df, column_name[0]))\n",
    "print('Столбец: <', column_name[1], '> пустой? -',\n",
    "        main.check_nan(reviews_df, column_name[1]))\n"
   ]
  },
  {
   "cell_type": "markdown",
   "metadata": {},
   "source": [
    "Пункт 4"
   ]
  },
  {
   "cell_type": "code",
   "execution_count": 22,
   "metadata": {},
   "outputs": [
    {
     "name": "stdout",
     "output_type": "stream",
     "text": [
      "     Метка класса                                       Текст отзыва  \\\n",
      "0            good  Зеленая миля\\n'Они помогли ему убить себя и та...   \n",
      "1            good  Зеленая миля\\n'Боже, иногда Зеленая миля так д...   \n",
      "2            good  Зеленая миля\\nОни помогли ему убить себя\\n\\n«О...   \n",
      "3            good  Зеленая миля\\n«Когда призовет Господь на свой ...   \n",
      "4            good  Зеленая миля\\nОбвиненный в страшном преступлен...   \n",
      "...           ...                                                ...   \n",
      "1995          bad  Сумерки\\nФильм «ни о чем»! Не понимаю, что мно...   \n",
      "1996          bad  Сумерки\\nСначала был Макс Шрек.\\n\\n\\nПотом Бел...   \n",
      "1997          bad  Сумерки\\nНа экраны вышла первая часть вампирск...   \n",
      "1998          bad  Сумерки\\nСемнадцатилетняя Белла Свон переезжае...   \n",
      "1999          bad  Сумерки\\nМоё отношение к данному фильму весьма...   \n",
      "\n",
      "      Количество слов  \n",
      "0                 117  \n",
      "1                1449  \n",
      "2                 639  \n",
      "3                 751  \n",
      "4                 361  \n",
      "...               ...  \n",
      "1995              176  \n",
      "1996              609  \n",
      "1997              346  \n",
      "1998              195  \n",
      "1999              327  \n",
      "\n",
      "[2000 rows x 3 columns]\n"
     ]
    }
   ],
   "source": [
    "count_word = main.count_words_in_text(reviews_df, column_name[1])\n",
    "reviews_df[column_name[2]] = pd.Series(count_word)\n",
    "print(reviews_df)"
   ]
  },
  {
   "cell_type": "markdown",
   "metadata": {},
   "source": [
    "Пункт 5"
   ]
  },
  {
   "cell_type": "code",
   "execution_count": 24,
   "metadata": {},
   "outputs": [
    {
     "name": "stdout",
     "output_type": "stream",
     "text": [
      "count    2000.000000\n",
      "mean      378.334500\n",
      "std       221.888566\n",
      "min        13.000000\n",
      "25%       215.000000\n",
      "50%       324.000000\n",
      "75%       486.500000\n",
      "max      2427.000000\n",
      "Name: Количество слов, dtype: float64\n"
     ]
    }
   ],
   "source": [
    "stat = main.statistical_information(reviews_df, column_name[2])\n",
    "print(stat)"
   ]
  },
  {
   "cell_type": "markdown",
   "metadata": {},
   "source": [
    "Пункт 6"
   ]
  },
  {
   "cell_type": "code",
   "execution_count": 28,
   "metadata": {},
   "outputs": [
    {
     "name": "stdout",
     "output_type": "stream",
     "text": [
      "     Метка класса                                       Текст отзыва  \\\n",
      "81           good  Зеленая миля\\nПотрясающе!Просто потрясающе!\\n\\...   \n",
      "253          good  Список Шиндлера\\nПросто посмотри - и уже никог...   \n",
      "630          good  Назад в будущее 2\\nГениальный фильм. Один из т...   \n",
      "643          good  Назад в будущее 2\\n2-я часть самая лучшая! Зде...   \n",
      "660          good  Назад в будущее 2\\nОтличный фильм, прерасное д...   \n",
      "1555          bad  Матрица\\nПобег в реальность не удалсяСпецэффек...   \n",
      "1720          bad  Ночной дозор\\nГолливуд пока впередиСлабый филь...   \n",
      "\n",
      "      Количество слов  \n",
      "81                 50  \n",
      "253                13  \n",
      "630                26  \n",
      "643                26  \n",
      "660                42  \n",
      "1555               49  \n",
      "1720               49  \n"
     ]
    }
   ],
   "source": [
    "filtered_reviews_df = main.filtered_dataframe_word(\n",
    "        reviews_df, column_name[2], 50)\n",
    "print(filtered_reviews_df)"
   ]
  },
  {
   "cell_type": "markdown",
   "metadata": {},
   "source": [
    "Пункт 7"
   ]
  },
  {
   "cell_type": "code",
   "execution_count": 29,
   "metadata": {},
   "outputs": [
    {
     "name": "stdout",
     "output_type": "stream",
     "text": [
      "    Метка класса                                       Текст отзыва  \\\n",
      "0           good  Зеленая миля\\n'Они помогли ему убить себя и та...   \n",
      "1           good  Зеленая миля\\n'Боже, иногда Зеленая миля так д...   \n",
      "2           good  Зеленая миля\\nОни помогли ему убить себя\\n\\n«О...   \n",
      "3           good  Зеленая миля\\n«Когда призовет Господь на свой ...   \n",
      "4           good  Зеленая миля\\nОбвиненный в страшном преступлен...   \n",
      "..           ...                                                ...   \n",
      "995         good  1+1\\nЯ, честно, до появления этого фильма в то...   \n",
      "996         good  1+1\\nДрузья давно советовали мне посмотреть эт...   \n",
      "997         good  1+1\\nВсегда, когда смотришь хороший европейски...   \n",
      "998         good  1+1\\nПосмотрел этот фильм сравнительно недавно...   \n",
      "999         good  Тайна Коко\\nЭто надо видеть!!!Наверное, это бу...   \n",
      "\n",
      "     Количество слов  \n",
      "0                117  \n",
      "1               1449  \n",
      "2                639  \n",
      "3                751  \n",
      "4                361  \n",
      "..               ...  \n",
      "995              331  \n",
      "996              448  \n",
      "997              198  \n",
      "998              278  \n",
      "999              394  \n",
      "\n",
      "[1000 rows x 3 columns]\n"
     ]
    }
   ],
   "source": [
    "reviews_good_df = main.filtered_dataframe_class(\n",
    "        reviews_df, column_name[0], 'good')\n",
    "\n",
    "    \n",
    "print(reviews_good_df)"
   ]
  },
  {
   "cell_type": "markdown",
   "metadata": {},
   "source": [
    "Пункт 8"
   ]
  },
  {
   "cell_type": "code",
   "execution_count": 32,
   "metadata": {},
   "outputs": [
    {
     "name": "stdout",
     "output_type": "stream",
     "text": [
      "\n",
      "Для положительных отзывов:\n",
      "\n",
      "Минимальное кол-во слов: 49.0\n",
      "Максимальное кол-во слов: 1015.0\n",
      "Среднее кол-во слов: 385.748\n",
      "\n",
      "Для отрицательных отзывов:\n",
      "\n",
      "Минимальное кол-во слов: 49.0\n",
      "Максимальное кол-во слов: 1015.0\n",
      "Среднее кол-во слов: 385.748\n"
     ]
    }
   ],
   "source": [
    "stat_good = main.statistical_information(reviews_good_df, column_name[2])\n",
    "print('\\nДля положительных отзывов:\\n')\n",
    "print('Минимальное кол-во слов:', stat_good['min'])\n",
    "print('Максимальное кол-во слов:', stat_good['max'])\n",
    "print('Среднее кол-во слов:', stat_good['mean'])\n",
    "\n",
    "reviews_bad_df = main.filtered_dataframe_class(reviews_df, column_name[0], 'bad')\n",
    "\n",
    "stat_bad = main.statistical_information(reviews_bad_df, column_name[2])\n",
    "print('\\nДля отрицательных отзывов:\\n')\n",
    "print('Минимальное кол-во слов:', stat_bad['min'])\n",
    "print('Максимальное кол-во слов:', stat_bad['max'])\n",
    "print('Среднее кол-во слов:', stat_bad['mean'])"
   ]
  },
  {
   "cell_type": "markdown",
   "metadata": {},
   "source": [
    "Пункт 9"
   ]
  },
  {
   "cell_type": "code",
   "execution_count": 3,
   "metadata": {},
   "outputs": [
    {
     "ename": "NameError",
     "evalue": "name 'main' is not defined",
     "output_type": "error",
     "traceback": [
      "\u001b[1;31m---------------------------------------------------------------------------\u001b[0m",
      "\u001b[1;31mNameError\u001b[0m                                 Traceback (most recent call last)",
      "Cell \u001b[1;32mIn[3], line 1\u001b[0m\n\u001b[1;32m----> 1\u001b[0m words \u001b[39m=\u001b[39m main\u001b[39m.\u001b[39mlist_words(reviews_df, \u001b[39m'\u001b[39m\u001b[39mgood\u001b[39m\u001b[39m'\u001b[39m, column_name[\u001b[39m1\u001b[39m])\n\u001b[0;32m      2\u001b[0m \u001b[39mprint\u001b[39m(words)\n",
      "\u001b[1;31mNameError\u001b[0m: name 'main' is not defined"
     ]
    }
   ],
   "source": [
    "words = main.list_words(reviews_df, 'good', column_name[1])\n",
    "print(words)"
   ]
  }
 ],
 "metadata": {
  "kernelspec": {
   "display_name": "Python 3.10.7 64-bit",
   "language": "python",
   "name": "python3"
  },
  "language_info": {
   "codemirror_mode": {
    "name": "ipython",
    "version": 3
   },
   "file_extension": ".py",
   "mimetype": "text/x-python",
   "name": "python",
   "nbconvert_exporter": "python",
   "pygments_lexer": "ipython3",
   "version": "3.10.7"
  },
  "orig_nbformat": 4,
  "vscode": {
   "interpreter": {
    "hash": "1af5a1ec5683947446bd5f176e49a8bdacde1661c6109a52b4e2c5a12da96685"
   }
  }
 },
 "nbformat": 4,
 "nbformat_minor": 2
}
