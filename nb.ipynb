{
 "cells": [
  {
   "cell_type": "code",
   "execution_count": 1,
   "metadata": {},
   "outputs": [],
   "source": [
    "\n",
    "import pandas as pd\n",
    "import csv\n",
    "import os\n",
    "import os.path\n",
    "import pymorphy2\n",
    "import regex as re\n",
    "import main\n",
    "import asyncio\n",
    "from collections import Counter"
   ]
  },
  {
   "cell_type": "markdown",
   "metadata": {},
   "source": [
    "Пункт 1"
   ]
  },
  {
   "cell_type": "code",
   "execution_count": 2,
   "metadata": {},
   "outputs": [
    {
     "name": "stdout",
     "output_type": "stream",
     "text": [
      "     class_mark                                        text_review\n",
      "0          good  Зеленая миля\\n'Они помогли ему убить себя и та...\n",
      "1          good  Зеленая миля\\n'Боже, иногда Зеленая миля так д...\n",
      "2          good  Зеленая миля\\nОни помогли ему убить себя\\n\\n«О...\n",
      "3          good  Зеленая миля\\n«Когда призовет Господь на свой ...\n",
      "4          good  Зеленая миля\\nОбвиненный в страшном преступлен...\n",
      "...         ...                                                ...\n",
      "1995        bad  Сумерки\\nФильм «ни о чем»! Не понимаю, что мно...\n",
      "1996        bad  Сумерки\\nСначала был Макс Шрек.\\n\\n\\nПотом Бел...\n",
      "1997        bad  Сумерки\\nНа экраны вышла первая часть вампирск...\n",
      "1998        bad  Сумерки\\nСемнадцатилетняя Белла Свон переезжае...\n",
      "1999        bad  Сумерки\\nМоё отношение к данному фильму весьма...\n",
      "\n",
      "[2000 rows x 2 columns]\n"
     ]
    }
   ],
   "source": [
    "column_name = ['class_mark', 'text_review', 'count_words']\n",
    "reviews_df = main.add_to_dataframe()\n",
    "print(reviews_df)"
   ]
  },
  {
   "cell_type": "markdown",
   "metadata": {},
   "source": [
    "Пункт 2 сделан сразу в пункте 1"
   ]
  },
  {
   "cell_type": "markdown",
   "metadata": {},
   "source": [
    "Пункт 3"
   ]
  },
  {
   "cell_type": "code",
   "execution_count": 3,
   "metadata": {},
   "outputs": [
    {
     "name": "stdout",
     "output_type": "stream",
     "text": [
      "Столбец: < class_mark > пустой? - False\n",
      "Столбец: < text_review > пустой? - False\n"
     ]
    }
   ],
   "source": [
    "print('Столбец: <', column_name[0], '> пустой? -',\n",
    "          main.check_nan(reviews_df, column_name[0]))\n",
    "print('Столбец: <', column_name[1], '> пустой? -',\n",
    "        main.check_nan(reviews_df, column_name[1]))\n"
   ]
  },
  {
   "cell_type": "markdown",
   "metadata": {},
   "source": [
    "Пункт 4"
   ]
  },
  {
   "cell_type": "code",
   "execution_count": 4,
   "metadata": {},
   "outputs": [
    {
     "name": "stdout",
     "output_type": "stream",
     "text": [
      "     class_mark                                        text_review  \\\n",
      "0          good  Зеленая миля\\n'Они помогли ему убить себя и та...   \n",
      "1          good  Зеленая миля\\n'Боже, иногда Зеленая миля так д...   \n",
      "2          good  Зеленая миля\\nОни помогли ему убить себя\\n\\n«О...   \n",
      "3          good  Зеленая миля\\n«Когда призовет Господь на свой ...   \n",
      "4          good  Зеленая миля\\nОбвиненный в страшном преступлен...   \n",
      "...         ...                                                ...   \n",
      "1995        bad  Сумерки\\nФильм «ни о чем»! Не понимаю, что мно...   \n",
      "1996        bad  Сумерки\\nСначала был Макс Шрек.\\n\\n\\nПотом Бел...   \n",
      "1997        bad  Сумерки\\nНа экраны вышла первая часть вампирск...   \n",
      "1998        bad  Сумерки\\nСемнадцатилетняя Белла Свон переезжае...   \n",
      "1999        bad  Сумерки\\nМоё отношение к данному фильму весьма...   \n",
      "\n",
      "      count_words  \n",
      "0             117  \n",
      "1            1448  \n",
      "2             639  \n",
      "3             751  \n",
      "4             361  \n",
      "...           ...  \n",
      "1995          176  \n",
      "1996          609  \n",
      "1997          346  \n",
      "1998          195  \n",
      "1999          327  \n",
      "\n",
      "[2000 rows x 3 columns]\n"
     ]
    }
   ],
   "source": [
    "count_word = main.count_words_in_text(reviews_df, column_name[1])\n",
    "reviews_df[column_name[2]] = pd.Series(count_word)\n",
    "print(reviews_df)"
   ]
  },
  {
   "cell_type": "markdown",
   "metadata": {},
   "source": [
    "Пункт 5"
   ]
  },
  {
   "cell_type": "code",
   "execution_count": 5,
   "metadata": {},
   "outputs": [
    {
     "name": "stdout",
     "output_type": "stream",
     "text": [
      "count    2000.000000\n",
      "mean      378.286500\n",
      "std       221.887488\n",
      "min        13.000000\n",
      "25%       215.000000\n",
      "50%       324.000000\n",
      "75%       486.500000\n",
      "max      2427.000000\n",
      "Name: count_words, dtype: float64\n"
     ]
    }
   ],
   "source": [
    "stat = main.statistical_information(reviews_df, column_name[2])\n",
    "print(stat)"
   ]
  },
  {
   "cell_type": "markdown",
   "metadata": {},
   "source": [
    "Пункт 6"
   ]
  },
  {
   "cell_type": "code",
   "execution_count": 6,
   "metadata": {},
   "outputs": [
    {
     "name": "stdout",
     "output_type": "stream",
     "text": [
      "     class_mark                                        text_review  \\\n",
      "1          good  Зеленая миля\\n'Боже, иногда Зеленая миля так д...   \n",
      "266        good  Список Шиндлера\\nВсе мы ЛЮДИ, прекрасно понима...   \n",
      "295        good  Список Шиндлера\\n1993 год стал одним из самых ...   \n",
      "400        good  Матрица\\nИщите в фильме смысл. Вы его увидите....   \n",
      "401        good  Матрица\\nИщите в фильме смысл. Вы его увидите....   \n",
      "431        good  Матрица\\nИщите в фильме смысл. Вы его увидите....   \n",
      "674        good  Побег из Шоушенка\\nЗанимайся жизнью или занима...   \n",
      "676        good  Побег из Шоушенка\\nЗанимайся жизнью или занима...   \n",
      "733        good  Побег из Шоушенка\\nЗанимайся жизнью или занима...   \n",
      "1068        bad  Тайна Коко\\nВеселая сказка или мрачная антиуто...   \n",
      "1083        bad  Бойцовский клуб\\nГлоток настоящегоЛовким пролё...   \n",
      "1468        bad  Джанго освобожденный\\n(Рецензия содержит спойл...   \n",
      "1527        bad  Джанго освобожденный\\nИтак, вслед за почти все...   \n",
      "1578        bad  Зеленая книга\\nстереотипное Роуд-мувиВ конце 2...   \n",
      "1619        bad  Инопланетное вторжение: Битва за Лос-Анджелес\\...   \n",
      "1732        bad  Сумерки\\nДве рецензии по цене одной.Я узнала о...   \n",
      "1824        bad  Сумерки\\nДве рецензии по цене одной.Редкое про...   \n",
      "1957        bad  Сумерки\\nСумерки. Это слово наводит на меня уж...   \n",
      "\n",
      "      count_words  \n",
      "1            1448  \n",
      "266          1004  \n",
      "295          1007  \n",
      "400          2427  \n",
      "401          1010  \n",
      "431          1020  \n",
      "674          1321  \n",
      "676          1473  \n",
      "733          1014  \n",
      "1068         1006  \n",
      "1083         1008  \n",
      "1468         1008  \n",
      "1527         1009  \n",
      "1578         1015  \n",
      "1619         1012  \n",
      "1732         1004  \n",
      "1824         1008  \n",
      "1957         1007  \n"
     ]
    }
   ],
   "source": [
    "filtered_reviews_df = main.filtered_dataframe_word(\n",
    "        reviews_df, column_name[2], 1000)\n",
    "print(filtered_reviews_df)"
   ]
  },
  {
   "cell_type": "markdown",
   "metadata": {},
   "source": [
    "Пункт 7"
   ]
  },
  {
   "cell_type": "code",
   "execution_count": 7,
   "metadata": {},
   "outputs": [
    {
     "name": "stdout",
     "output_type": "stream",
     "text": [
      "    class_mark                                        text_review  count_words\n",
      "0         good  Зеленая миля\\n'Они помогли ему убить себя и та...          117\n",
      "1         good  Зеленая миля\\n'Боже, иногда Зеленая миля так д...         1448\n",
      "2         good  Зеленая миля\\nОни помогли ему убить себя\\n\\n«О...          639\n",
      "3         good  Зеленая миля\\n«Когда призовет Господь на свой ...          751\n",
      "4         good  Зеленая миля\\nОбвиненный в страшном преступлен...          361\n",
      "..         ...                                                ...          ...\n",
      "995       good  1+1\\nЯ, честно, до появления этого фильма в то...          331\n",
      "996       good  1+1\\nДрузья давно советовали мне посмотреть эт...          448\n",
      "997       good  1+1\\nВсегда, когда смотришь хороший европейски...          198\n",
      "998       good  1+1\\nПосмотрел этот фильм сравнительно недавно...          278\n",
      "999       good  Тайна Коко\\nЭто надо видеть!!!Наверное, это бу...          394\n",
      "\n",
      "[1000 rows x 3 columns]\n"
     ]
    }
   ],
   "source": [
    "reviews_good_df = main.filtered_dataframe_class(\n",
    "        reviews_df, column_name[0], 'good')\n",
    "\n",
    "    \n",
    "print(reviews_good_df)"
   ]
  },
  {
   "cell_type": "markdown",
   "metadata": {},
   "source": [
    "Пункт 8"
   ]
  },
  {
   "cell_type": "code",
   "execution_count": 8,
   "metadata": {},
   "outputs": [
    {
     "name": "stdout",
     "output_type": "stream",
     "text": [
      "\n",
      "Для положительных отзывов:\n",
      "\n",
      "Минимальное кол-во слов: 13.0\n",
      "Максимальное кол-во слов: 2427.0\n",
      "Среднее кол-во слов: 370.85\n",
      "\n",
      "Для отрицательных отзывов:\n",
      "\n",
      "Минимальное кол-во слов: 49.0\n",
      "Максимальное кол-во слов: 1015.0\n",
      "Среднее кол-во слов: 385.723\n"
     ]
    }
   ],
   "source": [
    "stat_good = main.statistical_information(reviews_good_df, column_name[2])\n",
    "print('\\nДля положительных отзывов:\\n')\n",
    "print('Минимальное кол-во слов:', stat_good['min'])\n",
    "print('Максимальное кол-во слов:', stat_good['max'])\n",
    "print('Среднее кол-во слов:', stat_good['mean'])\n",
    "\n",
    "reviews_bad_df = main.filtered_dataframe_class(reviews_df, column_name[0], 'bad')\n",
    "\n",
    "stat_bad = main.statistical_information(reviews_bad_df, column_name[2])\n",
    "print('\\nДля отрицательных отзывов:\\n')\n",
    "print('Минимальное кол-во слов:', stat_bad['min'])\n",
    "print('Максимальное кол-во слов:', stat_bad['max'])\n",
    "print('Среднее кол-во слов:', stat_bad['mean'])"
   ]
  },
  {
   "attachments": {},
   "cell_type": "markdown",
   "metadata": {},
   "source": [
    "Функция для лемматизации слов"
   ]
  },
  {
   "cell_type": "code",
   "execution_count": 22,
   "metadata": {},
   "outputs": [
    {
     "name": "stdout",
     "output_type": "stream",
     "text": [
      "[]\n"
     ]
    },
    {
     "name": "stderr",
     "output_type": "stream",
     "text": [
      "C:\\Users\\nika\\AppData\\Local\\Temp\\ipykernel_13220\\407177070.py:18: RuntimeWarning: coroutine 'asynxron' was never awaited\n",
      "  pass\n",
      "RuntimeWarning: Enable tracemalloc to get the object allocation traceback\n"
     ]
    }
   ],
   "source": [
    "\n",
    "async def asynxron(reviews_df, column_name, output_lemma_1, output_lemma_2, loop):\n",
    "\n",
    "    task1 = loop.create_task(\n",
    "        main.lemmatizer_list(\n",
    "            reviews_df, column_name[1],  'good', 81, 82, output_lemma_1))\n",
    "    task2 = loop.create_task(\n",
    "        main.lemmatizer_list(\n",
    "            reviews_df, column_name[1],  'good', 660, 661, output_lemma_2))\n",
    "    await asyncio.wait([task1, task2])\n",
    "\n",
    "output_lemma_1 =[]\n",
    "output_lemma_2 =[]\n",
    "try:\n",
    "    loop = asyncio.get_event_loop()\n",
    "    loop.run_until_complete(asynxron(reviews_df, column_name, output_lemma_1, output_lemma_2, loop))\n",
    "except:\n",
    "    pass\n",
    "output_lemma = output_lemma_1 + output_lemma_2\n",
    "print(output_lemma)"
   ]
  },
  {
   "cell_type": "code",
   "execution_count": 5,
   "metadata": {},
   "outputs": [
    {
     "name": "stdout",
     "output_type": "stream",
     "text": [
      "1383\n"
     ]
    }
   ],
   "source": [
    "output_lemma =[]\n",
    "output_lemma = main.lemmatizer_list(\n",
    "            reviews_df, column_name[1],  'good', 660, 661)\n",
    "output_lemma += main.lemmatizer_list(\n",
    "            reviews_df, column_name[1],  'good', 81, 82)\n",
    "output_lemma += main.lemmatizer_list(\n",
    "            reviews_df, column_name[1],  'good', 295, 296)\n",
    "output_lemma += main.lemmatizer_list(\n",
    "            reviews_df, column_name[1],  'good', 431, 432)\n",
    "output_lemma.sort()\n",
    "\n",
    "print(len(output_lemma))"
   ]
  },
  {
   "cell_type": "code",
   "execution_count": 38,
   "metadata": {},
   "outputs": [
    {
     "name": "stdout",
     "output_type": "stream",
     "text": [
      "{'время': 7, 'герой': 14, 'главный': 7, 'год': 8, 'каждый': 9, 'картина': 10, 'который': 22, 'матрица': 8, 'мир': 9, 'немалый': 7, 'нео': 8, 'один': 10, 'первый': 7, 'роль': 7, 'свой': 16, 'спилберг': 10, 'фильм': 14, 'характер': 6, 'человек': 12, 'шиндлера': 19}\n"
     ]
    }
   ],
   "source": [
    "word_dict = Counter(output_lemma)\n",
    "word_dict = dict(word_dict)\n",
    "word_dict_upd = {}\n",
    "#print(word_dict_upd)\n",
    "for key, value in word_dict.items():    \n",
    "    if value > 5:\n",
    "        word_dict_upd[key] = value\n",
    "\n",
    "print(word_dict_upd)\n",
    "\n"
   ]
  },
  {
   "cell_type": "code",
   "execution_count": 57,
   "metadata": {},
   "outputs": [
    {
     "data": {
      "image/png": "[encoded data removed]",
      "text/plain": [
       "<Figure size 2000x1000 with 1 Axes>"
      ]
     },
     "metadata": {},
     "output_type": "display_data"
    }
   ],
   "source": [
    "from matplotlib import pyplot as plt\n",
    "import numpy as np\n",
    "\n",
    "fig = plt.figure(figsize=(20,10))\n",
    "ax = fig.add_subplot()\n",
    "\n",
    "ax.bar(list(word_dict_upd.keys()), word_dict_upd.values(), color='r')\n",
    "\n",
    "plt.show()"
   ]
  }
 ],
 "metadata": {
  "kernelspec": {
   "display_name": "Python 3.10.7 64-bit",
   "language": "python",
   "name": "python3"
  },
  "language_info": {
   "codemirror_mode": {
    "name": "ipython",
    "version": 3
   },
   "file_extension": ".py",
   "mimetype": "text/x-python",
   "name": "python",
   "nbconvert_exporter": "python",
   "pygments_lexer": "ipython3",
   "version": "3.10.7"
  },
  "orig_nbformat": 4,
  "vscode": {
   "interpreter": {
    "hash": "1af5a1ec5683947446bd5f176e49a8bdacde1661c6109a52b4e2c5a12da96685"
   }
  }
 },
 "nbformat": 4,
 "nbformat_minor": 2
}
